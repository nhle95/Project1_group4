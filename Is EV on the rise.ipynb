{
 "cells": [
  {
   "cell_type": "code",
   "execution_count": 1,
   "id": "17902210",
   "metadata": {},
   "outputs": [],
   "source": [
    "import pandas as pd\n",
    "import matplotlib.pyplot as plt\n",
    "import os\n",
    "import numpy as np"
   ]
  },
  {
   "cell_type": "code",
   "execution_count": 2,
   "id": "93827f9f",
   "metadata": {},
   "outputs": [],
   "source": [
    "#read CSV\n",
    "reg_2016 = pd.read_csv ('data/2016 Vehicle Registration.csv',header=[1])\n",
    "reg_2017 = pd.read_csv ('data/2017 Vehicle Registration.csv',header=[1]) #header = [1] to skip the first row\n",
    "reg_2018 = pd.read_csv ('data/2018 Vehicle Registration.csv',header=[1])\n",
    "reg_2019 = pd.read_csv ('data/2019 Vehicle Registration.csv',header=[1])\n",
    "reg_2020 = pd.read_csv ('data/2020 Vehicle Registration.csv',header=[1])\n",
    "reg_2021 = pd.read_csv ('data/2021 Vehicle Registration.csv',header=[1])\n",
    "ev_model = pd.read_csv ('data/US EV model offered by year.csv')"
   ]
  },
  {
   "cell_type": "code",
   "execution_count": 3,
   "id": "2ced3f56",
   "metadata": {},
   "outputs": [],
   "source": [
    "#remove comma to convert string to int\n",
    "reg_2016.replace(',','', regex=True, inplace=True)\n",
    "reg_2017.replace(',','', regex=True, inplace=True)\n",
    "reg_2018.replace(',','', regex=True, inplace=True)\n",
    "reg_2019.replace(',','', regex=True, inplace=True)\n",
    "reg_2020.replace(',','', regex=True, inplace=True)\n",
    "reg_2021.replace(',','', regex=True, inplace=True)\n"
   ]
  },
  {
   "cell_type": "code",
   "execution_count": 4,
   "id": "6d3d37f6",
   "metadata": {},
   "outputs": [],
   "source": [
    "#clean 2016 vehicle registration and create a 2016 vehicle dataframe\n",
    "reg_2016['Electric (EV)'] = reg_2016['Electric (EV)'].astype(int)\n",
    "reg_2016_final = reg_2016.set_index('State') #turn State to index\n",
    "cars_2016 = reg_2016_final.loc['United States',:] #choose only Texas\n",
    "cars_2016df = cars_2016.to_frame() #convert series to dataframe\n",
    "cars_2016_rename =cars_2016df.rename(columns={\"United States\":'2016'}).reset_index(level=0) #rename Texas to Year to merge later and reset index for merge\n"
   ]
  },
  {
   "cell_type": "code",
   "execution_count": 5,
   "id": "b54a21f4",
   "metadata": {},
   "outputs": [],
   "source": [
    "#clean 2017 vehicle registration and create a 2017 vehicle dataframe\n",
    "reg_2017['Electric (EV)'] = reg_2017['Electric (EV)'].astype(int)\n",
    "reg_2017_final = reg_2017.set_index('State') #turn State to index\n",
    "cars_2017 = reg_2017_final.loc['United States',:] #choose only Texas\n",
    "cars_2017df = cars_2017.to_frame() #convert series to dataframe\n",
    "cars_2017_rename =cars_2017df.rename(columns={\"United States\":'2017'}).reset_index(level=0) #rename Texas to Year to merge later and reset index for merge\n"
   ]
  },
  {
   "cell_type": "code",
   "execution_count": 6,
   "id": "9c858c67",
   "metadata": {},
   "outputs": [],
   "source": [
    "#clean 2018 vehicle registration and create a 2018 vehicle dataframe\n",
    "reg_2018['Electric (EV)'] = reg_2018['Electric (EV)'].astype(int)\n",
    "reg_2018_final = reg_2018.set_index('State') #turn State to index\n",
    "cars_2018 = reg_2018_final.loc['United States',:] #choose only Texas\n",
    "cars_2018df = cars_2018.to_frame() #convert series to dataframe\n",
    "cars_2018_rename =cars_2018df.rename(columns={\"United States\":'2018'}).reset_index(level=0) #rename Texas to Year to merge later and reset index for merge\n"
   ]
  },
  {
   "cell_type": "code",
   "execution_count": 11,
   "id": "fd323109",
   "metadata": {},
   "outputs": [],
   "source": [
    "#clean 2019 vehicle registration and create a 2019 vehicle dataframe\n",
    "reg_2019['Electric (EV)'] = reg_2019['Electric (EV)'].astype(int)\n",
    "reg_2019_final = reg_2019.set_index('State') #turn State to index\n",
    "cars_2019 = reg_2019_final.loc['United States',:] #choose only Texas\n",
    "cars_2019df = cars_2019.to_frame() #convert series to dataframe\n",
    "cars_2019_rename = cars_2019df.rename(columns={\"United States\":'2019'}).reset_index(level=0) #rename Texas to Year to merge later and reset index for merge #rename Texas to Year to merge later\n"
   ]
  },
  {
   "cell_type": "code",
   "execution_count": 12,
   "id": "1715ef57",
   "metadata": {},
   "outputs": [],
   "source": [
    "#clean 2020 vehicle registration and create a 2020 vehicle dataframe\n",
    "reg_2020['Electric (EV)'] = reg_2020['Electric (EV)'].astype(int)\n",
    "reg_2020_final = reg_2020.set_index('State') #turn State to index\n",
    "cars_2020 = reg_2020_final.loc['United States',:] #choose only Texas\n",
    "cars_2020df = cars_2020.to_frame() #convert series to dataframe\n",
    "cars_2020_rename = cars_2020df.rename(columns={\"United States\":'2020'}).reset_index(level=0) #rename Texas to Year to merge later and reset index for merge #rename Texas to Year to merge later"
   ]
  },
  {
   "cell_type": "code",
   "execution_count": 13,
   "id": "514dfd6e",
   "metadata": {},
   "outputs": [],
   "source": [
    "#clean 2021 vehicle registration and create a 2021 vehicle dataframe\n",
    "reg_2021['Electric (EV)'] = reg_2021['Electric (EV)'].astype(int)\n",
    "reg_2021_final = reg_2021.set_index('State') #turn State to index\n",
    "cars_2021 = reg_2021_final.loc['United States',:] #choose only Texas\n",
    "cars_2021df = cars_2021.to_frame() #convert series to dataframe\n",
    "cars_2021_rename = cars_2021df.rename(columns={\"United States\":'2021'}).reset_index(level=0) #rename Texas to Year to merge later and reset index for merge #rename Texas to Year to merge later\n"
   ]
  },
  {
   "cell_type": "code",
   "execution_count": 21,
   "id": "d0c5919a",
   "metadata": {},
   "outputs": [
    {
     "data": {
      "text/html": [
       "<div>\n",
       "<style scoped>\n",
       "    .dataframe tbody tr th:only-of-type {\n",
       "        vertical-align: middle;\n",
       "    }\n",
       "\n",
       "    .dataframe tbody tr th {\n",
       "        vertical-align: top;\n",
       "    }\n",
       "\n",
       "    .dataframe thead th {\n",
       "        text-align: right;\n",
       "    }\n",
       "</style>\n",
       "<table border=\"1\" class=\"dataframe\">\n",
       "  <thead>\n",
       "    <tr style=\"text-align: right;\">\n",
       "      <th></th>\n",
       "      <th>2016</th>\n",
       "      <th>2017</th>\n",
       "      <th>2018</th>\n",
       "      <th>2019</th>\n",
       "      <th>2020</th>\n",
       "      <th>2021</th>\n",
       "    </tr>\n",
       "    <tr>\n",
       "      <th>Type</th>\n",
       "      <th></th>\n",
       "      <th></th>\n",
       "      <th></th>\n",
       "      <th></th>\n",
       "      <th></th>\n",
       "      <th></th>\n",
       "    </tr>\n",
       "  </thead>\n",
       "  <tbody>\n",
       "    <tr>\n",
       "      <th>Electric (EV)</th>\n",
       "      <td>280300</td>\n",
       "      <td>377100</td>\n",
       "      <td>572600</td>\n",
       "      <td>783600</td>\n",
       "      <td>1018900</td>\n",
       "      <td>1454400</td>\n",
       "    </tr>\n",
       "    <tr>\n",
       "      <th>Plug-In Hybrid Electric (PHEV)</th>\n",
       "      <td>254000</td>\n",
       "      <td>344600</td>\n",
       "      <td>461300</td>\n",
       "      <td>536600</td>\n",
       "      <td>594400</td>\n",
       "      <td>786800</td>\n",
       "    </tr>\n",
       "    <tr>\n",
       "      <th>Hybrid Electric (HEV)</th>\n",
       "      <td>3741600</td>\n",
       "      <td>4036000</td>\n",
       "      <td>4242400</td>\n",
       "      <td>4512900</td>\n",
       "      <td>4813700</td>\n",
       "      <td>5491800</td>\n",
       "    </tr>\n",
       "    <tr>\n",
       "      <th>Biodiesel</th>\n",
       "      <td>0</td>\n",
       "      <td>0</td>\n",
       "      <td>0</td>\n",
       "      <td>0</td>\n",
       "      <td>0</td>\n",
       "      <td>2194100</td>\n",
       "    </tr>\n",
       "    <tr>\n",
       "      <th>Ethanol/Flex (E85)</th>\n",
       "      <td>22138300</td>\n",
       "      <td>24607700</td>\n",
       "      <td>26288400</td>\n",
       "      <td>27540700</td>\n",
       "      <td>27997200</td>\n",
       "      <td>21244900</td>\n",
       "    </tr>\n",
       "    <tr>\n",
       "      <th>Compressed Natural Gas (CNG)</th>\n",
       "      <td>721600</td>\n",
       "      <td>663100</td>\n",
       "      <td>609200</td>\n",
       "      <td>560700</td>\n",
       "      <td>521600</td>\n",
       "      <td>40800</td>\n",
       "    </tr>\n",
       "    <tr>\n",
       "      <th>Propane</th>\n",
       "      <td>0</td>\n",
       "      <td>0</td>\n",
       "      <td>0</td>\n",
       "      <td>0</td>\n",
       "      <td>0</td>\n",
       "      <td>7600</td>\n",
       "    </tr>\n",
       "    <tr>\n",
       "      <th>Hydrogen</th>\n",
       "      <td>1300</td>\n",
       "      <td>3200</td>\n",
       "      <td>9400</td>\n",
       "      <td>12800</td>\n",
       "      <td>14200</td>\n",
       "      <td>11800</td>\n",
       "    </tr>\n",
       "    <tr>\n",
       "      <th>Methanol</th>\n",
       "      <td>500</td>\n",
       "      <td>500</td>\n",
       "      <td>300</td>\n",
       "      <td>300</td>\n",
       "      <td>300</td>\n",
       "      <td>0</td>\n",
       "    </tr>\n",
       "    <tr>\n",
       "      <th>Gasoline</th>\n",
       "      <td>224855100</td>\n",
       "      <td>227415700</td>\n",
       "      <td>229074100</td>\n",
       "      <td>231358800</td>\n",
       "      <td>231992200</td>\n",
       "      <td>240699500</td>\n",
       "    </tr>\n",
       "    <tr>\n",
       "      <th>Diesel</th>\n",
       "      <td>7734000</td>\n",
       "      <td>8115800</td>\n",
       "      <td>8279800</td>\n",
       "      <td>8550900</td>\n",
       "      <td>8860500</td>\n",
       "      <td>711030</td>\n",
       "    </tr>\n",
       "  </tbody>\n",
       "</table>\n",
       "</div>"
      ],
      "text/plain": [
       "                                     2016       2017       2018       2019  \\\n",
       "Type                                                                         \n",
       "Electric (EV)                      280300     377100     572600     783600   \n",
       "Plug-In Hybrid Electric (PHEV)     254000     344600     461300     536600   \n",
       "Hybrid Electric (HEV)             3741600    4036000    4242400    4512900   \n",
       "Biodiesel                               0          0          0          0   \n",
       "Ethanol/Flex (E85)               22138300   24607700   26288400   27540700   \n",
       "Compressed Natural Gas (CNG)       721600     663100     609200     560700   \n",
       "Propane                                 0          0          0          0   \n",
       "Hydrogen                             1300       3200       9400      12800   \n",
       "Methanol                              500        500        300        300   \n",
       "Gasoline                        224855100  227415700  229074100  231358800   \n",
       "Diesel                            7734000    8115800    8279800    8550900   \n",
       "\n",
       "                                     2020       2021  \n",
       "Type                                                  \n",
       "Electric (EV)                     1018900    1454400  \n",
       "Plug-In Hybrid Electric (PHEV)     594400     786800  \n",
       "Hybrid Electric (HEV)             4813700    5491800  \n",
       "Biodiesel                               0    2194100  \n",
       "Ethanol/Flex (E85)               27997200   21244900  \n",
       "Compressed Natural Gas (CNG)       521600      40800  \n",
       "Propane                                 0       7600  \n",
       "Hydrogen                            14200      11800  \n",
       "Methanol                              300          0  \n",
       "Gasoline                        231992200  240699500  \n",
       "Diesel                            8860500     711030  "
      ]
     },
     "execution_count": 21,
     "metadata": {},
     "output_type": "execute_result"
    }
   ],
   "source": [
    "cars_reg_2016_2017 = pd.merge(cars_2016_rename,cars_2017_rename) #merge dataframe\n",
    "cars_reg_2018_2019 = pd.merge(cars_2018_rename,cars_2019_rename)\n",
    "cars_reg_2020_2021 = pd.merge(cars_2020_rename,cars_2021_rename)\n",
    "cars_reg_by_year = pd.merge(cars_reg_2018_2019,cars_reg_2020_2021)\n",
    "cars_reg_by_year = pd.merge(cars_reg_by_year,cars_reg_2016_2017)\n",
    "cars_reg_by_year = cars_reg_by_year.rename(columns={'index':'Type'})\n",
    "cars_reg_by_year = cars_reg_by_year[['Type','2016','2017','2018','2019','2020','2021']] #reorganize columns\n",
    "cars_reg_by_year_graph = cars_reg_by_year.set_index('Type')\n",
    "graph_key = cars_reg_by_year_graph.keys() #key for graph\n",
    "#use for first visualization \n",
    "cars_reg_by_year_graph['2016']=cars_reg_by_year_graph['2016'].astype(int)\n",
    "cars_reg_by_year_graph['2017']=cars_reg_by_year_graph['2017'].astype(int)\n",
    "cars_reg_by_year_graph['2018']=cars_reg_by_year_graph['2018'].astype(int)\n",
    "cars_reg_by_year_graph['2019']=cars_reg_by_year_graph['2019'].astype(int)\n",
    "cars_reg_by_year_graph['2020']=cars_reg_by_year_graph['2020'].astype(int)\n",
    "cars_reg_by_year_graph['2021']=cars_reg_by_year_graph['2021'].astype(int)\n",
    "cars_reg_by_year_graph\n",
    "\n",
    "\n"
   ]
  },
  {
   "cell_type": "code",
   "execution_count": 24,
   "id": "e9a8375c",
   "metadata": {},
   "outputs": [
    {
     "data": {
      "image/png": "[encoded data removed]",
      "text/plain": [
       "<Figure size 504x504 with 1 Axes>"
      ]
     },
     "metadata": {
      "needs_background": "light"
     },
     "output_type": "display_data"
    }
   ],
   "source": [
    "#graph second visualization\n",
    "Electric1 = cars_reg_by_year_graph.loc['Electric (EV)',:]\n",
    "Plugin1 = cars_reg_by_year_graph.loc['Plug-In Hybrid Electric (PHEV)',:]\n",
    "x = np.arange(len(graph_key))  # the label locations\n",
    "width = 0.25 # the width of the bars\n",
    "fig, ax = plt.subplots()\n",
    "bar1 = ax.bar(x - width/1.25, Electric1, width, label='Electric',color ='green')\n",
    "bar2 = ax.bar(x + width/1.25, Plugin1, width, label='Plug-in Hybrid',color = 'royalblue')\n",
    "ax.set_ylabel('Vehicle Registrations')\n",
    "ax.set_title('Electric and Plug-in Hybrid Vehicle Registrations')\n",
    "ax.set_xticks(x, graph_key)\n",
    "ax.legend()\n",
    "ax.bar_label(bar1, padding=3)\n",
    "ax.bar_label(bar2, padding=3)\n",
    "fig.tight_layout()\n",
    "plt.rcParams['figure.figsize']=(7,7) # Change plot size:\n",
    "plt.savefig('output/Electric and Plug-in Hybrid Vehicle Registrations.jpeg')\n",
    "plt.show()\n",
    "\n"
   ]
  },
  {
   "cell_type": "code",
   "execution_count": 18,
   "id": "eabcacb0",
   "metadata": {},
   "outputs": [
    {
     "data": {
      "text/plain": [
       "Index(['2017 Percentage', '2018 Percentage', '2019 Percentage',\n",
       "       '2020 Percentage', '2021 Percentage'],\n",
       "      dtype='object')"
      ]
     },
     "execution_count": 18,
     "metadata": {},
     "output_type": "execute_result"
    }
   ],
   "source": [
    "EV_Gasoline = cars_reg_by_year.loc[[0,1,9],:]\n",
    "EV_Gasoline  = EV_Gasoline.set_index('Type')\n",
    "EV_Gasoline['2016'] = EV_Gasoline['2016'].astype(int)\n",
    "EV_Gasoline['2017'] = EV_Gasoline['2017'].astype(int)\n",
    "EV_Gasoline['2018'] = EV_Gasoline['2018'].astype(int)\n",
    "EV_Gasoline['2019'] = EV_Gasoline['2019'].astype(int)\n",
    "EV_Gasoline['2020'] = EV_Gasoline['2020'].astype(int)\n",
    "EV_Gasoline['2021'] = EV_Gasoline['2021'].astype(int)\n",
    "#EV_Gasoline.info()\n",
    "EV_Gasoline['2017 Percentage'] =round((((EV_Gasoline['2017']-EV_Gasoline['2016'])/EV_Gasoline['2016'])*100).astype(float),1)\n",
    "EV_Gasoline['2018 Percentage'] =round((((EV_Gasoline['2018']-EV_Gasoline['2017'])/EV_Gasoline['2017'])*100).astype(float),1)\n",
    "EV_Gasoline['2019 Percentage'] =round((((EV_Gasoline['2019']-EV_Gasoline['2018'])/EV_Gasoline['2018'])*100).astype(float),1)\n",
    "EV_Gasoline['2020 Percentage'] =round((((EV_Gasoline['2020']-EV_Gasoline['2019'])/EV_Gasoline['2019'])*100).astype(float),1)\n",
    "EV_Gasoline['2021 Percentage'] =round((((EV_Gasoline['2021']-EV_Gasoline['2020'])/EV_Gasoline['2020'])*100).astype(float),1)\n",
    "EV_Gasoline_graph = EV_Gasoline[['2017 Percentage','2018 Percentage','2019 Percentage','2020 Percentage','2021 Percentage']]\n",
    "#use for second visualization \n",
    "second_label = EV_Gasoline_graph.keys()\n",
    "second_label"
   ]
  },
  {
   "cell_type": "code",
   "execution_count": 19,
   "id": "bad4074a",
   "metadata": {},
   "outputs": [
    {
     "data": {
      "text/html": [
       "<div>\n",
       "<style scoped>\n",
       "    .dataframe tbody tr th:only-of-type {\n",
       "        vertical-align: middle;\n",
       "    }\n",
       "\n",
       "    .dataframe tbody tr th {\n",
       "        vertical-align: top;\n",
       "    }\n",
       "\n",
       "    .dataframe thead th {\n",
       "        text-align: right;\n",
       "    }\n",
       "</style>\n",
       "<table border=\"1\" class=\"dataframe\">\n",
       "  <thead>\n",
       "    <tr style=\"text-align: right;\">\n",
       "      <th></th>\n",
       "      <th>2017 Percentage</th>\n",
       "      <th>2018 Percentage</th>\n",
       "      <th>2019 Percentage</th>\n",
       "      <th>2020 Percentage</th>\n",
       "      <th>2021 Percentage</th>\n",
       "    </tr>\n",
       "    <tr>\n",
       "      <th>Type</th>\n",
       "      <th></th>\n",
       "      <th></th>\n",
       "      <th></th>\n",
       "      <th></th>\n",
       "      <th></th>\n",
       "    </tr>\n",
       "  </thead>\n",
       "  <tbody>\n",
       "    <tr>\n",
       "      <th>Electric (EV)</th>\n",
       "      <td>34.5</td>\n",
       "      <td>51.8</td>\n",
       "      <td>36.8</td>\n",
       "      <td>30.0</td>\n",
       "      <td>42.7</td>\n",
       "    </tr>\n",
       "    <tr>\n",
       "      <th>Plug-In Hybrid Electric (PHEV)</th>\n",
       "      <td>35.7</td>\n",
       "      <td>33.9</td>\n",
       "      <td>16.3</td>\n",
       "      <td>10.8</td>\n",
       "      <td>32.4</td>\n",
       "    </tr>\n",
       "    <tr>\n",
       "      <th>Gasoline</th>\n",
       "      <td>1.1</td>\n",
       "      <td>0.7</td>\n",
       "      <td>1.0</td>\n",
       "      <td>0.3</td>\n",
       "      <td>3.8</td>\n",
       "    </tr>\n",
       "  </tbody>\n",
       "</table>\n",
       "</div>"
      ],
      "text/plain": [
       "                                2017 Percentage  2018 Percentage  \\\n",
       "Type                                                               \n",
       "Electric (EV)                              34.5             51.8   \n",
       "Plug-In Hybrid Electric (PHEV)             35.7             33.9   \n",
       "Gasoline                                    1.1              0.7   \n",
       "\n",
       "                                2019 Percentage  2020 Percentage  \\\n",
       "Type                                                               \n",
       "Electric (EV)                              36.8             30.0   \n",
       "Plug-In Hybrid Electric (PHEV)             16.3             10.8   \n",
       "Gasoline                                    1.0              0.3   \n",
       "\n",
       "                                2021 Percentage  \n",
       "Type                                             \n",
       "Electric (EV)                              42.7  \n",
       "Plug-In Hybrid Electric (PHEV)             32.4  \n",
       "Gasoline                                    3.8  "
      ]
     },
     "execution_count": 19,
     "metadata": {},
     "output_type": "execute_result"
    }
   ],
   "source": [
    "EV_Gasoline_graph"
   ]
  },
  {
   "cell_type": "code",
   "execution_count": 20,
   "id": "dcdeab21",
   "metadata": {},
   "outputs": [
    {
     "data": {
      "image/png": "[encoded data removed]",
      "text/plain": [
       "<Figure size 504x504 with 1 Axes>"
      ]
     },
     "metadata": {
      "needs_background": "light"
     },
     "output_type": "display_data"
    }
   ],
   "source": [
    "x_axis = second_label\n",
    "Electric = EV_Gasoline_graph.loc['Electric (EV)',:]\n",
    "Plugin=EV_Gasoline_graph.loc['Plug-In Hybrid Electric (PHEV)',:]\n",
    "Gasoline=EV_Gasoline_graph.loc['Gasoline',:]\n",
    "plt.plot(x_axis,Electric,label =\"Electric\", marker = \"s\",color='green')\n",
    "plt.plot(x_axis,Plugin,label = \"Plugin Hybrid\", marker =\"+\",color='royalblue')\n",
    "plt.plot(x_axis,Gasoline,label = \"Gasoline\", marker =\"o\",color='red')\n",
    "\n",
    "plt.legend() #for label to show\n",
    "plt.title('Percentage Change in Vehicle Registrations Over Year')\n",
    "plt.savefig('output/Percentage Change in Vehicle Registrations Over Year.jpeg')\n",
    "plt.show()"
   ]
  },
  {
   "cell_type": "code",
   "execution_count": 24,
   "id": "94ed1d75",
   "metadata": {},
   "outputs": [
    {
     "data": {
      "text/html": [
       "<div>\n",
       "<style scoped>\n",
       "    .dataframe tbody tr th:only-of-type {\n",
       "        vertical-align: middle;\n",
       "    }\n",
       "\n",
       "    .dataframe tbody tr th {\n",
       "        vertical-align: top;\n",
       "    }\n",
       "\n",
       "    .dataframe thead th {\n",
       "        text-align: right;\n",
       "    }\n",
       "</style>\n",
       "<table border=\"1\" class=\"dataframe\">\n",
       "  <thead>\n",
       "    <tr style=\"text-align: right;\">\n",
       "      <th></th>\n",
       "      <th>Year</th>\n",
       "      <th>Total</th>\n",
       "    </tr>\n",
       "  </thead>\n",
       "  <tbody>\n",
       "    <tr>\n",
       "      <th>0</th>\n",
       "      <td>2016</td>\n",
       "      <td>155</td>\n",
       "    </tr>\n",
       "    <tr>\n",
       "      <th>1</th>\n",
       "      <td>2017</td>\n",
       "      <td>183.0</td>\n",
       "    </tr>\n",
       "    <tr>\n",
       "      <th>2</th>\n",
       "      <td>2018</td>\n",
       "      <td>203.0</td>\n",
       "    </tr>\n",
       "    <tr>\n",
       "      <th>3</th>\n",
       "      <td>2019</td>\n",
       "      <td>220.0</td>\n",
       "    </tr>\n",
       "    <tr>\n",
       "      <th>4</th>\n",
       "      <td>2020</td>\n",
       "      <td>227.0</td>\n",
       "    </tr>\n",
       "    <tr>\n",
       "      <th>5</th>\n",
       "      <td>2021</td>\n",
       "      <td>261.0</td>\n",
       "    </tr>\n",
       "  </tbody>\n",
       "</table>\n",
       "</div>"
      ],
      "text/plain": [
       "   Year  Total\n",
       "0  2016    155\n",
       "1  2017  183.0\n",
       "2  2018  203.0\n",
       "3  2019  220.0\n",
       "4  2020  227.0\n",
       "5  2021  261.0"
      ]
     },
     "execution_count": 24,
     "metadata": {},
     "output_type": "execute_result"
    }
   ],
   "source": [
    "ev_model = ev_model.fillna(0) #fill N/A with value 0 \n",
    "ev_model_by_year = ev_model[['Manufacturer','2016','2017','2018','2019','2020','2021']].set_index('Manufacturer') #only choose the year that we are intrested in \n",
    "ev_model_offered_by_year =ev_model_by_year.loc['Total',:].reset_index(level=0).rename(columns={'index':'Year'})\n",
    "ev_model_offered_by_year\n",
    "\n",
    "#use for third visualization "
   ]
  },
  {
   "cell_type": "code",
   "execution_count": 43,
   "id": "abb2a693",
   "metadata": {
    "scrolled": true
   },
   "outputs": [
    {
     "data": {
      "image/png": "[encoded data removed]",
      "text/plain": [
       "<Figure size 504x504 with 1 Axes>"
      ]
     },
     "metadata": {
      "needs_background": "light"
     },
     "output_type": "display_data"
    }
   ],
   "source": [
    "x_axis = ev_model_offered_by_year['Year'].astype(int)\n",
    "y_axis = ev_model_offered_by_year['Total'].astype(int)\n",
    "\n",
    "#plt.figure(figsize=(6,9))\n",
    "plt.bar(x_axis,y_axis)\n",
    "plt.xlabel(\"Year\")\n",
    "plt.ylabel('Number of EV models')\n",
    "plt.title('Number of EV models, 2016-2021')\n",
    "plt.rcParams['figure.figsize']=(9,8) # Change plot size:\n",
    "plt.savefig('output/Number of EV models, 2016-2021.jpeg')\n",
    "plt.show()\n"
   ]
  },
  {
   "cell_type": "code",
   "execution_count": null,
   "id": "ecf37468",
   "metadata": {},
   "outputs": [],
   "source": []
  },
  {
   "cell_type": "code",
   "execution_count": null,
   "id": "8f3a899c",
   "metadata": {},
   "outputs": [],
   "source": []
  }
 ],
 "metadata": {
  "kernelspec": {
   "display_name": "Python 3 (ipykernel)",
   "language": "python",
   "name": "python3"
  },
  "language_info": {
   "codemirror_mode": {
    "name": "ipython",
    "version": 3
   },
   "file_extension": ".py",
   "mimetype": "text/x-python",
   "name": "python",
   "nbconvert_exporter": "python",
   "pygments_lexer": "ipython3",
   "version": "3.9.12"
  }
 },
 "nbformat": 4,
 "nbformat_minor": 5
}

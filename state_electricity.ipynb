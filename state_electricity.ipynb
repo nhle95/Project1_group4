{
 "cells": [
  {
   "cell_type": "code",
   "execution_count": 2,
   "id": "f8b43867",
   "metadata": {},
   "outputs": [],
   "source": [
    "import pandas as pd \n",
    "import numpy as np\n",
    "import matplotlib.pyplot as plt"
   ]
  },
  {
   "cell_type": "code",
   "execution_count": 7,
   "id": "b0a520e6",
   "metadata": {},
   "outputs": [],
   "source": [
    "csv_path = \"annual_generation_state.csv\""
   ]
  },
  {
   "cell_type": "code",
   "execution_count": 8,
   "id": "cf71eb94",
   "metadata": {},
   "outputs": [],
   "source": [
    "gen_df = pd.read_csv(csv_path, header = None)"
   ]
  },
  {
   "cell_type": "code",
   "execution_count": 9,
   "id": "8f593f0f",
   "metadata": {},
   "outputs": [
    {
     "data": {
      "text/html": [
       "<div>\n",
       "<style scoped>\n",
       "    .dataframe tbody tr th:only-of-type {\n",
       "        vertical-align: middle;\n",
       "    }\n",
       "\n",
       "    .dataframe tbody tr th {\n",
       "        vertical-align: top;\n",
       "    }\n",
       "\n",
       "    .dataframe thead th {\n",
       "        text-align: right;\n",
       "    }\n",
       "</style>\n",
       "<table border=\"1\" class=\"dataframe\">\n",
       "  <thead>\n",
       "    <tr style=\"text-align: right;\">\n",
       "      <th></th>\n",
       "      <th>0</th>\n",
       "      <th>1</th>\n",
       "      <th>2</th>\n",
       "      <th>3</th>\n",
       "      <th>4</th>\n",
       "    </tr>\n",
       "  </thead>\n",
       "  <tbody>\n",
       "    <tr>\n",
       "      <th>0</th>\n",
       "      <td>YEAR</td>\n",
       "      <td>STATE</td>\n",
       "      <td>TYPE OF PRODUCER</td>\n",
       "      <td>ENERGY SOURCE</td>\n",
       "      <td>GENERATION (Megawatthours)</td>\n",
       "    </tr>\n",
       "    <tr>\n",
       "      <th>1</th>\n",
       "      <td>2015</td>\n",
       "      <td>AK</td>\n",
       "      <td>Total Electric Power Industry</td>\n",
       "      <td>Total</td>\n",
       "      <td>6,284,937</td>\n",
       "    </tr>\n",
       "    <tr>\n",
       "      <th>2</th>\n",
       "      <td>2015</td>\n",
       "      <td>AK</td>\n",
       "      <td>Total Electric Power Industry</td>\n",
       "      <td>Coal</td>\n",
       "      <td>667,549</td>\n",
       "    </tr>\n",
       "    <tr>\n",
       "      <th>3</th>\n",
       "      <td>2015</td>\n",
       "      <td>AK</td>\n",
       "      <td>Total Electric Power Industry</td>\n",
       "      <td>Hydroelectric Conventional</td>\n",
       "      <td>1,568,929</td>\n",
       "    </tr>\n",
       "    <tr>\n",
       "      <th>4</th>\n",
       "      <td>2015</td>\n",
       "      <td>AK</td>\n",
       "      <td>Total Electric Power Industry</td>\n",
       "      <td>Natural Gas</td>\n",
       "      <td>3,089,713</td>\n",
       "    </tr>\n",
       "  </tbody>\n",
       "</table>\n",
       "</div>"
      ],
      "text/plain": [
       "      0      1                              2                           3  \\\n",
       "0  YEAR  STATE               TYPE OF PRODUCER               ENERGY SOURCE   \n",
       "1  2015     AK  Total Electric Power Industry                       Total   \n",
       "2  2015     AK  Total Electric Power Industry                        Coal   \n",
       "3  2015     AK  Total Electric Power Industry  Hydroelectric Conventional   \n",
       "4  2015     AK  Total Electric Power Industry                 Natural Gas   \n",
       "\n",
       "                            4  \n",
       "0  GENERATION (Megawatthours)  \n",
       "1                   6,284,937  \n",
       "2                     667,549  \n",
       "3                   1,568,929  \n",
       "4                   3,089,713  "
      ]
     },
     "execution_count": 9,
     "metadata": {},
     "output_type": "execute_result"
    }
   ],
   "source": [
    "gen_df.head()"
   ]
  },
  {
   "cell_type": "code",
   "execution_count": 10,
   "id": "c1e41054",
   "metadata": {},
   "outputs": [
    {
     "data": {
      "text/plain": [
       "Int64Index([0, 1, 2, 3, 4], dtype='int64')"
      ]
     },
     "execution_count": 10,
     "metadata": {},
     "output_type": "execute_result"
    }
   ],
   "source": [
    "gen_df.columns"
   ]
  },
  {
   "cell_type": "code",
   "execution_count": 11,
   "id": "a6cf06bd",
   "metadata": {
    "scrolled": true
   },
   "outputs": [
    {
     "name": "stdout",
     "output_type": "stream",
     "text": [
      "          0      1                                        2  \\\n",
      "0      YEAR  STATE                         TYPE OF PRODUCER   \n",
      "1      2015     AK            Total Electric Power Industry   \n",
      "2      2015     AK            Total Electric Power Industry   \n",
      "3      2015     AK            Total Electric Power Industry   \n",
      "4      2015     AK            Total Electric Power Industry   \n",
      "...     ...    ...                                      ...   \n",
      "12578  2020     WY  Electric Generators, Electric Utilities   \n",
      "12579  2020     WY  Electric Generators, Electric Utilities   \n",
      "12580  2020     WY  Electric Generators, Electric Utilities   \n",
      "12581  2020     WY  Electric Generators, Electric Utilities   \n",
      "12582  2020     WY  Electric Generators, Electric Utilities   \n",
      "\n",
      "                                3                           4  \n",
      "0                   ENERGY SOURCE  GENERATION (Megawatthours)  \n",
      "1                           Total                   6,284,937  \n",
      "2                            Coal                     667,549  \n",
      "3      Hydroelectric Conventional                   1,568,929  \n",
      "4                     Natural Gas                   3,089,713  \n",
      "...                           ...                         ...  \n",
      "12578                        Coal                  32,361,811  \n",
      "12579  Hydroelectric Conventional                   1,075,863  \n",
      "12580                 Natural Gas                     647,464  \n",
      "12581                   Petroleum                      44,556  \n",
      "12582                        Wind                   2,563,506  \n",
      "\n",
      "[12583 rows x 5 columns]\n"
     ]
    }
   ],
   "source": [
    "gen_df1 = gen_df[[0, 1, 2, 3, 4]]\n",
    "print(gen_df1)"
   ]
  },
  {
   "cell_type": "code",
   "execution_count": 12,
   "id": "277dd39d",
   "metadata": {},
   "outputs": [
    {
     "data": {
      "text/html": [
       "<div>\n",
       "<style scoped>\n",
       "    .dataframe tbody tr th:only-of-type {\n",
       "        vertical-align: middle;\n",
       "    }\n",
       "\n",
       "    .dataframe tbody tr th {\n",
       "        vertical-align: top;\n",
       "    }\n",
       "\n",
       "    .dataframe thead th {\n",
       "        text-align: right;\n",
       "    }\n",
       "</style>\n",
       "<table border=\"1\" class=\"dataframe\">\n",
       "  <thead>\n",
       "    <tr style=\"text-align: right;\">\n",
       "      <th></th>\n",
       "      <th>YEAR</th>\n",
       "      <th>STATE</th>\n",
       "      <th>TYPE OF PRODUCER</th>\n",
       "      <th>ENERGY SOURCE</th>\n",
       "      <th>GENERATION (Megawatthours)</th>\n",
       "    </tr>\n",
       "  </thead>\n",
       "  <tbody>\n",
       "    <tr>\n",
       "      <th>1</th>\n",
       "      <td>2015</td>\n",
       "      <td>AK</td>\n",
       "      <td>Total Electric Power Industry</td>\n",
       "      <td>Total</td>\n",
       "      <td>6,284,937</td>\n",
       "    </tr>\n",
       "    <tr>\n",
       "      <th>2</th>\n",
       "      <td>2015</td>\n",
       "      <td>AK</td>\n",
       "      <td>Total Electric Power Industry</td>\n",
       "      <td>Coal</td>\n",
       "      <td>667,549</td>\n",
       "    </tr>\n",
       "    <tr>\n",
       "      <th>3</th>\n",
       "      <td>2015</td>\n",
       "      <td>AK</td>\n",
       "      <td>Total Electric Power Industry</td>\n",
       "      <td>Hydroelectric Conventional</td>\n",
       "      <td>1,568,929</td>\n",
       "    </tr>\n",
       "    <tr>\n",
       "      <th>4</th>\n",
       "      <td>2015</td>\n",
       "      <td>AK</td>\n",
       "      <td>Total Electric Power Industry</td>\n",
       "      <td>Natural Gas</td>\n",
       "      <td>3,089,713</td>\n",
       "    </tr>\n",
       "    <tr>\n",
       "      <th>5</th>\n",
       "      <td>2015</td>\n",
       "      <td>AK</td>\n",
       "      <td>Total Electric Power Industry</td>\n",
       "      <td>Other</td>\n",
       "      <td>-2,407</td>\n",
       "    </tr>\n",
       "  </tbody>\n",
       "</table>\n",
       "</div>"
      ],
      "text/plain": [
       "0  YEAR STATE               TYPE OF PRODUCER               ENERGY SOURCE  \\\n",
       "1  2015    AK  Total Electric Power Industry                       Total   \n",
       "2  2015    AK  Total Electric Power Industry                        Coal   \n",
       "3  2015    AK  Total Electric Power Industry  Hydroelectric Conventional   \n",
       "4  2015    AK  Total Electric Power Industry                 Natural Gas   \n",
       "5  2015    AK  Total Electric Power Industry                       Other   \n",
       "\n",
       "0 GENERATION (Megawatthours)  \n",
       "1                  6,284,937  \n",
       "2                    667,549  \n",
       "3                  1,568,929  \n",
       "4                  3,089,713  \n",
       "5                     -2,407  "
      ]
     },
     "execution_count": 12,
     "metadata": {},
     "output_type": "execute_result"
    }
   ],
   "source": [
    "true_header = new_header = gen_df1.iloc[0]\n",
    "gen_df1 = gen_df1[1:]\n",
    "gen_df1.columns = true_header\n",
    "gen_df1.head()"
   ]
  },
  {
   "cell_type": "code",
   "execution_count": 13,
   "id": "57bff94d",
   "metadata": {},
   "outputs": [
    {
     "name": "stdout",
     "output_type": "stream",
     "text": [
      "<class 'pandas.core.frame.DataFrame'>\n",
      "RangeIndex: 12582 entries, 1 to 12582\n",
      "Data columns (total 5 columns):\n",
      " #   Column                      Non-Null Count  Dtype \n",
      "---  ------                      --------------  ----- \n",
      " 0   YEAR                        12582 non-null  object\n",
      " 1   STATE                       12582 non-null  object\n",
      " 2   TYPE OF PRODUCER            12582 non-null  object\n",
      " 3   ENERGY SOURCE               12582 non-null  object\n",
      " 4   GENERATION (Megawatthours)  12581 non-null  object\n",
      "dtypes: object(5)\n",
      "memory usage: 491.6+ KB\n"
     ]
    }
   ],
   "source": [
    "gen_df1.info()"
   ]
  },
  {
   "cell_type": "code",
   "execution_count": 14,
   "id": "d58aac2c",
   "metadata": {},
   "outputs": [
    {
     "name": "stdout",
     "output_type": "stream",
     "text": [
      "<class 'pandas.core.frame.DataFrame'>\n",
      "Int64Index: 12581 entries, 1 to 12582\n",
      "Data columns (total 5 columns):\n",
      " #   Column                      Non-Null Count  Dtype \n",
      "---  ------                      --------------  ----- \n",
      " 0   YEAR                        12581 non-null  object\n",
      " 1   STATE                       12581 non-null  object\n",
      " 2   TYPE OF PRODUCER            12581 non-null  object\n",
      " 3   ENERGY SOURCE               12581 non-null  object\n",
      " 4   GENERATION (Megawatthours)  12581 non-null  object\n",
      "dtypes: object(5)\n",
      "memory usage: 589.7+ KB\n"
     ]
    }
   ],
   "source": [
    "gen_df1 = gen_df1.dropna(how=\"any\")\n",
    "gen_df1.info()"
   ]
  },
  {
   "cell_type": "code",
   "execution_count": 15,
   "id": "29c3e87a",
   "metadata": {},
   "outputs": [
    {
     "data": {
      "text/plain": [
       "Index(['YEAR', 'STATE', 'TYPE OF PRODUCER', 'ENERGY SOURCE', 'GENERATION'], dtype='object', name=0)"
      ]
     },
     "execution_count": 15,
     "metadata": {},
     "output_type": "execute_result"
    }
   ],
   "source": [
    "gen_df1 = gen_df1.rename(columns={\"GENERATION (Megawatthours)\": \"GENERATION\"})\n",
    "gen_df1.columns"
   ]
  },
  {
   "cell_type": "code",
   "execution_count": 16,
   "id": "de4da8cc",
   "metadata": {},
   "outputs": [
    {
     "data": {
      "text/plain": [
       "1         6284937\n",
       "2          667549\n",
       "3         1568929\n",
       "4         3089713\n",
       "5           -2407\n",
       "           ...   \n",
       "12578    32361811\n",
       "12579     1075863\n",
       "12580      647464\n",
       "12581       44556\n",
       "12582     2563506\n",
       "Name: GENERATION, Length: 12581, dtype: object"
      ]
     },
     "execution_count": 16,
     "metadata": {},
     "output_type": "execute_result"
    }
   ],
   "source": [
    "gen_df1[\"GENERATION\"] = gen_df1[\"GENERATION\"].str.replace(\",\", \"\")\n",
    "gen_df1[\"GENERATION\"]"
   ]
  },
  {
   "cell_type": "code",
   "execution_count": 17,
   "id": "fc3a291b",
   "metadata": {},
   "outputs": [],
   "source": [
    "gen_df1[\"GENERATION\"] = gen_df1[\"GENERATION\"].astype(\"int64\")"
   ]
  },
  {
   "cell_type": "code",
   "execution_count": 18,
   "id": "bdd93d61",
   "metadata": {},
   "outputs": [],
   "source": [
    "#Create data frame to review national energy sources. \n",
    "USgen_df = gen_df1[(gen_df1.STATE == \"US-Total\")]\n",
    "#Create data frameA to review state energy sources. \n",
    "TXgen_df = gen_df1[(gen_df1.STATE == \"TX\")]\n",
    "CAgen_df = gen_df1[(gen_df1.STATE == \"CA\")] "
   ]
  },
  {
   "cell_type": "code",
   "execution_count": 19,
   "id": "3b655323",
   "metadata": {},
   "outputs": [
    {
     "name": "stdout",
     "output_type": "stream",
     "text": [
      "<class 'pandas.core.frame.DataFrame'>\n",
      "Int64Index: 404 entries, 1714 to 12313\n",
      "Data columns (total 3 columns):\n",
      " #   Column         Non-Null Count  Dtype \n",
      "---  ------         --------------  ----- \n",
      " 0   YEAR           404 non-null    object\n",
      " 1   ENERGY SOURCE  404 non-null    object\n",
      " 2   GENERATION     404 non-null    int64 \n",
      "dtypes: int64(1), object(2)\n",
      "memory usage: 12.6+ KB\n"
     ]
    },
    {
     "data": {
      "text/html": [
       "<div>\n",
       "<style scoped>\n",
       "    .dataframe tbody tr th:only-of-type {\n",
       "        vertical-align: middle;\n",
       "    }\n",
       "\n",
       "    .dataframe tbody tr th {\n",
       "        vertical-align: top;\n",
       "    }\n",
       "\n",
       "    .dataframe thead th {\n",
       "        text-align: right;\n",
       "    }\n",
       "</style>\n",
       "<table border=\"1\" class=\"dataframe\">\n",
       "  <thead>\n",
       "    <tr style=\"text-align: right;\">\n",
       "      <th></th>\n",
       "      <th>YEAR</th>\n",
       "      <th>ENERGY SOURCE</th>\n",
       "      <th>GENERATION</th>\n",
       "    </tr>\n",
       "  </thead>\n",
       "  <tbody>\n",
       "    <tr>\n",
       "      <th>1714</th>\n",
       "      <td>2015</td>\n",
       "      <td>Coal</td>\n",
       "      <td>1352398197</td>\n",
       "    </tr>\n",
       "    <tr>\n",
       "      <th>1715</th>\n",
       "      <td>2015</td>\n",
       "      <td>Geothermal</td>\n",
       "      <td>15917575</td>\n",
       "    </tr>\n",
       "    <tr>\n",
       "      <th>1716</th>\n",
       "      <td>2015</td>\n",
       "      <td>Pumped Storage</td>\n",
       "      <td>-5091488</td>\n",
       "    </tr>\n",
       "    <tr>\n",
       "      <th>1717</th>\n",
       "      <td>2015</td>\n",
       "      <td>Hydroelectric Conventional</td>\n",
       "      <td>249080085</td>\n",
       "    </tr>\n",
       "    <tr>\n",
       "      <th>1718</th>\n",
       "      <td>2015</td>\n",
       "      <td>Natural Gas</td>\n",
       "      <td>1334668003</td>\n",
       "    </tr>\n",
       "    <tr>\n",
       "      <th>...</th>\n",
       "      <td>...</td>\n",
       "      <td>...</td>\n",
       "      <td>...</td>\n",
       "    </tr>\n",
       "    <tr>\n",
       "      <th>12309</th>\n",
       "      <td>2020</td>\n",
       "      <td>Petroleum</td>\n",
       "      <td>12845022</td>\n",
       "    </tr>\n",
       "    <tr>\n",
       "      <th>12310</th>\n",
       "      <td>2020</td>\n",
       "      <td>Solar Thermal and Photovoltaic</td>\n",
       "      <td>9944816</td>\n",
       "    </tr>\n",
       "    <tr>\n",
       "      <th>12311</th>\n",
       "      <td>2020</td>\n",
       "      <td>Other Biomass</td>\n",
       "      <td>1251536</td>\n",
       "    </tr>\n",
       "    <tr>\n",
       "      <th>12312</th>\n",
       "      <td>2020</td>\n",
       "      <td>Wind</td>\n",
       "      <td>55554244</td>\n",
       "    </tr>\n",
       "    <tr>\n",
       "      <th>12313</th>\n",
       "      <td>2020</td>\n",
       "      <td>Wood and Wood Derived Fuels</td>\n",
       "      <td>2076663</td>\n",
       "    </tr>\n",
       "  </tbody>\n",
       "</table>\n",
       "<p>404 rows × 3 columns</p>\n",
       "</div>"
      ],
      "text/plain": [
       "0      YEAR                   ENERGY SOURCE  GENERATION\n",
       "1714   2015                            Coal  1352398197\n",
       "1715   2015                      Geothermal    15917575\n",
       "1716   2015                  Pumped Storage    -5091488\n",
       "1717   2015      Hydroelectric Conventional   249080085\n",
       "1718   2015                     Natural Gas  1334668003\n",
       "...     ...                             ...         ...\n",
       "12309  2020                       Petroleum    12845022\n",
       "12310  2020  Solar Thermal and Photovoltaic     9944816\n",
       "12311  2020                   Other Biomass     1251536\n",
       "12312  2020                            Wind    55554244\n",
       "12313  2020     Wood and Wood Derived Fuels     2076663\n",
       "\n",
       "[404 rows x 3 columns]"
      ]
     },
     "execution_count": 19,
     "metadata": {},
     "output_type": "execute_result"
    }
   ],
   "source": [
    "UStot_df = USgen_df[[\"YEAR\", \"ENERGY SOURCE\", \"GENERATION\"]]\n",
    "fil_UStot_df = UStot_df[UStot_df[\"ENERGY SOURCE\"].str.contains(\"Total\")==False]\n",
    "fil_UStot_df.info()\n",
    "fil_UStot_df"
   ]
  },
  {
   "cell_type": "code",
   "execution_count": 167,
   "id": "89b7bc6d",
   "metadata": {},
   "outputs": [
    {
     "name": "stderr",
     "output_type": "stream",
     "text": [
      "C:\\Users\\nhle9\\AppData\\Local\\Temp\\ipykernel_21912\\3030200682.py:11: FutureWarning: The frame.append method is deprecated and will be removed from pandas in a future version. Use pandas.concat instead.\n",
      "  USgentot_df = USgentot_df.append(Other_Sources.transpose())\n"
     ]
    },
    {
     "data": {
      "text/plain": [
       "Index(['Coal', 'Hydroelectric Conventional', 'Natural Gas', 'Nuclear',\n",
       "       'Solar Thermal and Photovoltaic', 'Wind', 'All Other Sources'],\n",
       "      dtype='object', name='ENERGY SOURCE')"
      ]
     },
     "execution_count": 167,
     "metadata": {},
     "output_type": "execute_result"
    }
   ],
   "source": [
    "USgentot_df = UStot_df.groupby([\"ENERGY SOURCE\"])[\"GENERATION\"].sum()\n",
    "USgentot_df = USgentot_df.drop([\"Pumped Storage\"])\n",
    "()\n",
    "\n",
    "USgentot_df=USgentot_df.to_frame() #turn series to dataframe\n",
    "\n",
    "Other_Sources = USgentot_df.loc[['Wood and Wood Derived Fuels','Petroleum','Other Gases' #add all small energy sources\n",
    "                                                 ,'Other Biomass','Other','Geothermal']].sum()\n",
    "Other_Sources.name='All Other Sources'\n",
    "## Assign sum of all other sources of DataFrame as a new Row\n",
    "USgentot_df = USgentot_df.append(Other_Sources.transpose())\n",
    "USgentot_df = USgentot_df.drop(['Wood and Wood Derived Fuels','Petroleum','Other Gases'\n",
    "                                                 ,'Other Biomass','Other','Geothermal','Total']) #drop all small one\n",
    "USgentot_df\n",
    "data =USgentot_df['GENERATION']\n",
    "data\n",
    "labels = USgentot_df.index\n",
    "labels"
   ]
  },
  {
   "cell_type": "code",
   "execution_count": 170,
   "id": "4fc915cf",
   "metadata": {},
   "outputs": [
    {
     "data": {
      "image/png": "[encoded data removed]",
      "text/plain": [
       "<Figure size 360x360 with 1 Axes>"
      ]
     },
     "metadata": {},
     "output_type": "display_data"
    }
   ],
   "source": [
    "#plot visualization\n",
    "plt.pie(data,autopct='%1.0f%%',startangle=0,labels = labels)\n",
    "plt.title(label =\"US Average Electricity Sources (2015-2020)\")\n",
    "plt.show()\n",
    "plt.rcParams['figure.figsize']=(6,6) # Change plot size"
   ]
  },
  {
   "cell_type": "code",
   "execution_count": 715,
   "id": "18380b97",
   "metadata": {},
   "outputs": [
    {
     "data": {
      "text/plain": [
       "([<matplotlib.patches.Wedge at 0x7fdbad3e7250>,\n",
       "  <matplotlib.patches.Wedge at 0x7fdbad3e7730>,\n",
       "  <matplotlib.patches.Wedge at 0x7fdbad3e7c10>,\n",
       "  <matplotlib.patches.Wedge at 0x7fdbad3ec130>,\n",
       "  <matplotlib.patches.Wedge at 0x7fdbad3ec610>,\n",
       "  <matplotlib.patches.Wedge at 0x7fdba78a9100>,\n",
       "  <matplotlib.patches.Wedge at 0x7fdbad3ecaf0>,\n",
       "  <matplotlib.patches.Wedge at 0x7fdbad3ecfd0>,\n",
       "  <matplotlib.patches.Wedge at 0x7fdbafe8c4f0>,\n",
       "  <matplotlib.patches.Wedge at 0x7fdbafe8c9d0>,\n",
       "  <matplotlib.patches.Wedge at 0x7fdbad3e7220>,\n",
       "  <matplotlib.patches.Wedge at 0x7fdbad3f23a0>,\n",
       "  <matplotlib.patches.Wedge at 0x7fdbad3f2880>,\n",
       "  <matplotlib.patches.Wedge at 0x7fdbad3f2d60>,\n",
       "  <matplotlib.patches.Wedge at 0x7fdbad3f6280>,\n",
       "  <matplotlib.patches.Wedge at 0x7fdbad3f6760>,\n",
       "  <matplotlib.patches.Wedge at 0x7fdbad3f6c40>,\n",
       "  <matplotlib.patches.Wedge at 0x7fdbad3fb160>,\n",
       "  <matplotlib.patches.Wedge at 0x7fdbad3fb640>,\n",
       "  <matplotlib.patches.Wedge at 0x7fdbad3fbb20>,\n",
       "  <matplotlib.patches.Wedge at 0x7fdbad401040>,\n",
       "  <matplotlib.patches.Wedge at 0x7fdbad401520>,\n",
       "  <matplotlib.patches.Wedge at 0x7fdbad401a00>,\n",
       "  <matplotlib.patches.Wedge at 0x7fdbad401ee0>,\n",
       "  <matplotlib.patches.Wedge at 0x7fdbad405400>,\n",
       "  <matplotlib.patches.Wedge at 0x7fdbad4058e0>,\n",
       "  <matplotlib.patches.Wedge at 0x7fdbad405dc0>,\n",
       "  <matplotlib.patches.Wedge at 0x7fdbae6e42e0>,\n",
       "  <matplotlib.patches.Wedge at 0x7fdbae6e47c0>,\n",
       "  <matplotlib.patches.Wedge at 0x7fdbae6e4ca0>,\n",
       "  <matplotlib.patches.Wedge at 0x7fdbae6eb1c0>,\n",
       "  <matplotlib.patches.Wedge at 0x7fdbae6eb6a0>,\n",
       "  <matplotlib.patches.Wedge at 0x7fdbae6ebb80>,\n",
       "  <matplotlib.patches.Wedge at 0x7fdbae6f50a0>,\n",
       "  <matplotlib.patches.Wedge at 0x7fdbae6f5580>,\n",
       "  <matplotlib.patches.Wedge at 0x7fdbae6f5a60>,\n",
       "  <matplotlib.patches.Wedge at 0x7fdbae6f5f40>,\n",
       "  <matplotlib.patches.Wedge at 0x7fdbae700460>,\n",
       "  <matplotlib.patches.Wedge at 0x7fdbae700940>,\n",
       "  <matplotlib.patches.Wedge at 0x7fdbae700e20>,\n",
       "  <matplotlib.patches.Wedge at 0x7fdbae709340>,\n",
       "  <matplotlib.patches.Wedge at 0x7fdbae709820>,\n",
       "  <matplotlib.patches.Wedge at 0x7fdbae709d00>,\n",
       "  <matplotlib.patches.Wedge at 0x7fdbae714220>,\n",
       "  <matplotlib.patches.Wedge at 0x7fdbae714700>,\n",
       "  <matplotlib.patches.Wedge at 0x7fdbae714be0>,\n",
       "  <matplotlib.patches.Wedge at 0x7fdbae71f100>,\n",
       "  <matplotlib.patches.Wedge at 0x7fdbae71f5e0>,\n",
       "  <matplotlib.patches.Wedge at 0x7fdbae71fac0>,\n",
       "  <matplotlib.patches.Wedge at 0x7fdbae71ffa0>,\n",
       "  <matplotlib.patches.Wedge at 0x7fdbaefd74c0>,\n",
       "  <matplotlib.patches.Wedge at 0x7fdbaefd79a0>,\n",
       "  <matplotlib.patches.Wedge at 0x7fdbaefd7e80>,\n",
       "  <matplotlib.patches.Wedge at 0x7fdbaefe23a0>,\n",
       "  <matplotlib.patches.Wedge at 0x7fdbaefe2880>,\n",
       "  <matplotlib.patches.Wedge at 0x7fdbaefe2d60>,\n",
       "  <matplotlib.patches.Wedge at 0x7fdbaefeb280>,\n",
       "  <matplotlib.patches.Wedge at 0x7fdbaefeb760>,\n",
       "  <matplotlib.patches.Wedge at 0x7fdbaefebc40>,\n",
       "  <matplotlib.patches.Wedge at 0x7fdbaeff7160>,\n",
       "  <matplotlib.patches.Wedge at 0x7fdbaeff7640>,\n",
       "  <matplotlib.patches.Wedge at 0x7fdbaeff7b20>,\n",
       "  <matplotlib.patches.Wedge at 0x7fdbaf002040>,\n",
       "  <matplotlib.patches.Wedge at 0x7fdbaf002520>,\n",
       "  <matplotlib.patches.Wedge at 0x7fdbaf002a00>,\n",
       "  <matplotlib.patches.Wedge at 0x7fdbaf002ee0>,\n",
       "  <matplotlib.patches.Wedge at 0x7fdbaf00b400>,\n",
       "  <matplotlib.patches.Wedge at 0x7fdbaf00b8e0>,\n",
       "  <matplotlib.patches.Wedge at 0x7fdbaf00bdc0>,\n",
       "  <matplotlib.patches.Wedge at 0x7fdbaf2a72e0>,\n",
       "  <matplotlib.patches.Wedge at 0x7fdbaf2a77c0>,\n",
       "  <matplotlib.patches.Wedge at 0x7fdbaf2a7ca0>],\n",
       " [Text(1.083565313108011, 0.1894365651851253, '2704796394'),\n",
       "  Text(0.9628301782548168, 0.5319380112774402, '2478297307'),\n",
       "  Text(0.752334867362209, 0.80249127556073, '2411670552'),\n",
       "  Text(0.4801651952894287, 0.9896673103789299, '2298974677'),\n",
       "  Text(0.19814103477650222, 1.0820074539196562, '1929913623'),\n",
       "  Text(-0.04547706830078068, 1.0990595235285332, '1546785795'),\n",
       "  Text(-0.1560777648503379, 1.0888708515335153, '31835150'),\n",
       "  Text(-0.1604999700449178, 1.0882278068564415, '31651614'),\n",
       "  Text(-0.1649208067798069, 1.0875666083008884, '31853548'),\n",
       "  Text(-0.16935857841805055, 1.0868843875574887, '31934268'),\n",
       "  Text(-0.17373041056461722, 1.0861941559615618, '30945434'),\n",
       "  Text(-0.17808867273087967, 1.0854881043313895, '31779394'),\n",
       "  Text(-0.21478860714441858, 1.0788261464392495, '498160170'),\n",
       "  Text(-0.2856323125295741, 1.0622684133678304, '535624306'),\n",
       "  Text(-0.36204747400125176, 1.0387115223050687, '600665859'),\n",
       "  Text(-0.4397403736846316, 1.0082799233108337, '585047978'),\n",
       "  Text(-0.5133524433255682, 0.9728665216419308, '575747462'),\n",
       "  Text(-0.5832684059905552, 0.9326295977360128, '570547790'),\n",
       "  Text(-0.7627471795599533, 0.7926012490990262, '2669336005'),\n",
       "  Text(-0.9869899427262165, 0.48564478063426153, '2758541845'),\n",
       "  Text(-1.0927759270705315, 0.12586013354172343, '2595405056'),\n",
       "  Text(-1.0685311444667296, -0.2612301538961793, '2943686062'),\n",
       "  Text(-0.8878992933754618, -0.6493341549798191, '3177065679'),\n",
       "  Text(-0.5540629739134327, -0.9502706040587612, '3253579281'),\n",
       "  Text(-0.23753284935307725, -1.0740475527080766, '1594355754'),\n",
       "  Text(-0.013771911338666861, -1.099913785011389, '1611387896'),\n",
       "  Text(0.21164025962072794, -1.0794481926001225, '1609899270'),\n",
       "  Text(0.4282722342238676, -1.0132042703191182, '1614168954'),\n",
       "  Text(0.6272564656965628, -0.903631189281256, '1618818524'),\n",
       "  Text(0.7978255005748025, -0.757280972052359, '1579757726'),\n",
       "  Text(0.871374290473554, -0.6713470383502936, '27909496'),\n",
       "  Text(0.8737439329425432, -0.6682600838342035, '27378129'),\n",
       "  Text(0.8760220749727274, -0.6652708652575111, '26016832'),\n",
       "  Text(0.8782293127463161, -0.6623543418995104, '25946409'),\n",
       "  Text(0.8804540777460825, -0.6593941287123318, '26662334'),\n",
       "  Text(0.8826589502167741, -0.6564397745431201, '25710370'),\n",
       "  Text(0.8855535784201316, -0.6525295853425344, '43406743'),\n",
       "  Text(0.8891738874247164, -0.6475876758571136, '43626462'),\n",
       "  Text(0.8927589300776713, -0.6426363612234931, '43219789'),\n",
       "  Text(0.8962415235470819, -0.6377704379085045, '41791530'),\n",
       "  Text(0.8994832034910625, -0.6331903083887624, '37927143'),\n",
       "  Text(0.9025081144864671, -0.6288712931006487, '36985346'),\n",
       "  Text(0.9050447082080004, -0.6252152238587089, '26233396'),\n",
       "  Text(0.90711401931076, -0.6222090934483989, '25614864'),\n",
       "  Text(0.9091220136890232, -0.6192714786150058, '24937933'),\n",
       "  Text(0.9111721808016544, -0.6162509691133616, '26925497'),\n",
       "  Text(0.9132218969346841, -0.613209398948693, '25182188'),\n",
       "  Text(0.9151330428771335, -0.6103535973797802, '23636956'),\n",
       "  Text(0.9182507346067603, -0.6056530264055033, '56497499'),\n",
       "  Text(0.9222957189182094, -0.5994752762751302, '48409612'),\n",
       "  Text(0.9257780241001637, -0.5940833696487361, '42779890'),\n",
       "  Text(0.9293057056522164, -0.5885498325904414, '50451256'),\n",
       "  Text(0.9325727380656995, -0.5833593131309763, '36681485'),\n",
       "  Text(0.9352269142490326, -0.5790946544946108, '34682030'),\n",
       "  Text(0.9383432640389546, -0.5740312873291151, '49785807'),\n",
       "  Text(0.9427920664834081, -0.566694908549517, '72108242'),\n",
       "  Text(0.9492097337782063, -0.5558784770979238, '106573730'),\n",
       "  Text(0.957434228516375, -0.5415899722716936, '127650629'),\n",
       "  Text(0.9666991721600845, -0.5248739949216454, '143873644'),\n",
       "  Text(0.9773167524377734, -0.5048286495480264, '178397430'),\n",
       "  Text(0.9947705215293641, -0.4695014478105443, '381437096'),\n",
       "  Text(1.0184361241214415, -0.415677592713988, '453985124'),\n",
       "  Text(1.0420924196217407, -0.3521979400378519, '508605390'),\n",
       "  Text(1.0634579855200843, -0.28117096762212856, '545334908'),\n",
       "  Text(1.081084638017544, -0.20311574395520382, '591764967'),\n",
       "  Text(1.0939877299856293, -0.11485141114017719, '675876098'),\n",
       "  Text(1.0982764961555274, -0.06155272530390661, '83857011'),\n",
       "  Text(1.0988675571827506, -0.04990081934411757, '81894455'),\n",
       "  Text(1.099331057863576, -0.038356553762705664, '82247037'),\n",
       "  Text(1.0996732444571806, -0.02680961441382992, '81872318'),\n",
       "  Text(1.099889051145664, -0.015622905296099254, '77086763'),\n",
       "  Text(1.0999881834851333, -0.0050986462004373335, '72437885')])"
      ]
     },
     "execution_count": 715,
     "metadata": {},
     "output_type": "execute_result"
    },
    {
     "data": {
      "image/png": "[encoded data removed]",
      "text/plain": [
       "<Figure size 432x288 with 1 Axes>"
      ]
     },
     "metadata": {},
     "output_type": "display_data"
    }
   ],
   "source": [
    "plt.pie(x, labels=labels)"
   ]
  },
  {
   "cell_type": "code",
   "execution_count": 728,
   "id": "2f228093",
   "metadata": {},
   "outputs": [],
   "source": [
    "USG_sourcedata = USG_sourcedata.rename({\"Hydroelectric Conventional\":\"Hydroelectric\", \"Other Biomass\": \"Biomass\", \"Solar Thermal and Photovoltaic\": \"Solar\", \"Wood and Wood Derived Fuels\": \"Wood Fuels\"})"
   ]
  },
  {
   "cell_type": "code",
   "execution_count": null,
   "id": "c2dc8934",
   "metadata": {},
   "outputs": [],
   "source": []
  },
  {
   "cell_type": "code",
   "execution_count": null,
   "id": "c2e53b3f",
   "metadata": {},
   "outputs": [],
   "source": []
  },
  {
   "cell_type": "code",
   "execution_count": null,
   "id": "aee5a8f0",
   "metadata": {},
   "outputs": [],
   "source": []
  },
  {
   "cell_type": "code",
   "execution_count": null,
   "id": "d3b892da",
   "metadata": {},
   "outputs": [],
   "source": []
  },
  {
   "cell_type": "code",
   "execution_count": null,
   "id": "e97d4ca3",
   "metadata": {},
   "outputs": [],
   "source": []
  },
  {
   "cell_type": "code",
   "execution_count": null,
   "id": "906ee72a",
   "metadata": {},
   "outputs": [],
   "source": []
  },
  {
   "cell_type": "code",
   "execution_count": null,
   "id": "3033a1d0",
   "metadata": {},
   "outputs": [],
   "source": []
  },
  {
   "cell_type": "code",
   "execution_count": null,
   "id": "00c74087",
   "metadata": {},
   "outputs": [],
   "source": []
  },
  {
   "cell_type": "code",
   "execution_count": null,
   "id": "e7d4f2c6",
   "metadata": {},
   "outputs": [],
   "source": []
  },
  {
   "cell_type": "code",
   "execution_count": null,
   "id": "92ef0e86",
   "metadata": {},
   "outputs": [],
   "source": []
  },
  {
   "cell_type": "code",
   "execution_count": null,
   "id": "c02fde7b",
   "metadata": {},
   "outputs": [],
   "source": []
  },
  {
   "cell_type": "code",
   "execution_count": null,
   "id": "a30a2821",
   "metadata": {},
   "outputs": [],
   "source": [
    "\n",
    "#"
   ]
  },
  {
   "cell_type": "code",
   "execution_count": null,
   "id": "d386ac6a",
   "metadata": {},
   "outputs": [],
   "source": []
  }
 ],
 "metadata": {
  "kernelspec": {
   "display_name": "Python 3 (ipykernel)",
   "language": "python",
   "name": "python3"
  },
  "language_info": {
   "codemirror_mode": {
    "name": "ipython",
    "version": 3
   },
   "file_extension": ".py",
   "mimetype": "text/x-python",
   "name": "python",
   "nbconvert_exporter": "python",
   "pygments_lexer": "ipython3",
   "version": "3.9.12"
  }
 },
 "nbformat": 4,
 "nbformat_minor": 5
}
